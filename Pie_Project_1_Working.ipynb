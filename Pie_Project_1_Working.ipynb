{
 "cells": [
  {
   "cell_type": "code",
   "execution_count": 1,
   "metadata": {},
   "outputs": [],
   "source": [
    "import pandas as pd\n",
    "import json\n",
    "import requests\n",
    "import prettytable\n",
    "from config import api_key\n",
    "import matplotlib.pyplot as plt\n",
    "import numpy as np\n",
    "import bls"
   ]
  },
  {
   "cell_type": "code",
   "execution_count": 76,
   "metadata": {},
   "outputs": [],
   "source": [
    "series_dict = {\n",
    "    \n",
    "    #Food, Apparel and Entertaiment across all regions \n",
    "    \n",
    "    'CXUFOODAWAYLB1101M': 'FoodAway_AllRegions',\n",
    "    'CXUAPPARELLB1101M': 'Apparel_AllRegions',\n",
    "    'CXUENTRTAINLB1101M': 'Entertainment_AllRegions',\n",
    "    \n",
    "    #Apparel breakdown across all regions \n",
    "    \n",
    "    'CXUBOYSLB1101M': 'Boys_Apparel',\n",
    "    'CXUINFANTLB1101M': 'Infant_Apparel',\n",
    "    'CXUGIRLSLB1101M': 'Girls_Apparel',\n",
    "    'CXUMENSLB1101M': 'Mens_Apparel',\n",
    "    'CXUWOMENSLB1101M': 'Women_Apparel',\n",
    "    'CXUFOOTWEARLB1101M': 'Footwear',\n",
    "    \n",
    "    #Entertainment breakdown across all regions\n",
    "    \n",
    "    'CXUFEESADMLB1101M': 'Fees and Admissions',\n",
    "    'CXUPETSPLAYLB1101M': 'Pets, Toys and Playground Equipment',\n",
    "    'CXUTVAUDIOLB1101M': 'Audio and Visual Equipment and Services',\n",
    "    \n",
    "    #Entertainment across 4 regions\n",
    "    \n",
    "    'CXUENTRTAINLB1102M': 'Entertainment in Northeast',\n",
    "    'CXUENTRTAINLB1103M': 'Entertainment in Midwest',\n",
    "    'CXUENTRTAINLB1104M': 'Entertainment in South',\n",
    "    'CXUENTRTAINLB1105M': 'Entertainment in West',\n",
    "    \n",
    "    #Apparel across 4 regions\n",
    "    \n",
    "    'CXUAPPARELLB1102M': 'Apparel in Northeast',\n",
    "    'CXUAPPARELLB1103M': 'Apparel in Midwest',\n",
    "    'CXUAPPARELLB1104M': 'Apparel in South',\n",
    "    'CXUAPPARELLB1105M': 'Apparel in West',\n",
    "    \n",
    "}"
   ]
  },
  {
   "cell_type": "code",
   "execution_count": 77,
   "metadata": {},
   "outputs": [],
   "source": [
    "headers = {'Content-type': 'application/json'}\n",
    "data = json.dumps({\"seriesid\": list(series_dict.keys()),\"startyear\":\"2005\", \"endyear\":\"2018\",\"registrationkey\":api_key})\n",
    "p = requests.post('https://api.bls.gov/publicAPI/v2/timeseries/data/', data=data, headers=headers)\n",
    "json_data = json.loads(p.text)\n",
    "try:\n",
    "    df = pd.DataFrame()\n",
    "    for series in json_data['Results']['series']:\n",
    "        df_initial = pd.DataFrame(series)\n",
    "        series_col = df_initial['seriesID'][0]\n",
    "        for i in range(0, len(df_initial) - 1):\n",
    "            df_row = pd.DataFrame(df_initial['data'][i])\n",
    "            df_row['seriesID'] = series_col\n",
    "            if 'code' not in str(df_row['footnotes']): \n",
    "                df_row['footnotes'] = ''\n",
    "            else:\n",
    "                df_row['footnotes'] = str(df_row['footnotes']).split(\"'code': '\",1)[1][:1]\n",
    "            df = df.append(df_row, ignore_index=True)\n",
    "    df.to_csv('blsdata.csv', index=False)\n",
    "except:\n",
    "    json_data['status'] == 'REQUEST_NOT_PROCESSED'\n",
    "    print('BLS API has given the following Response:', json_data['status'])\n",
    "    print('Reason:', json_data['message'])"
   ]
  },
  {
   "cell_type": "code",
   "execution_count": 78,
   "metadata": {},
   "outputs": [
    {
     "data": {
      "text/html": [
       "<div>\n",
       "<style scoped>\n",
       "    .dataframe tbody tr th:only-of-type {\n",
       "        vertical-align: middle;\n",
       "    }\n",
       "\n",
       "    .dataframe tbody tr th {\n",
       "        vertical-align: top;\n",
       "    }\n",
       "\n",
       "    .dataframe thead th {\n",
       "        text-align: right;\n",
       "    }\n",
       "</style>\n",
       "<table border=\"1\" class=\"dataframe\">\n",
       "  <thead>\n",
       "    <tr style=\"text-align: right;\">\n",
       "      <th></th>\n",
       "      <th>year</th>\n",
       "      <th>period</th>\n",
       "      <th>periodName</th>\n",
       "      <th>latest</th>\n",
       "      <th>value</th>\n",
       "      <th>footnotes</th>\n",
       "      <th>seriesID</th>\n",
       "    </tr>\n",
       "  </thead>\n",
       "  <tbody>\n",
       "    <tr>\n",
       "      <th>0</th>\n",
       "      <td>2018</td>\n",
       "      <td>A01</td>\n",
       "      <td>Annual</td>\n",
       "      <td>true</td>\n",
       "      <td>3459</td>\n",
       "      <td></td>\n",
       "      <td>CXUFOODAWAYLB1101M</td>\n",
       "    </tr>\n",
       "    <tr>\n",
       "      <th>1</th>\n",
       "      <td>2017</td>\n",
       "      <td>A01</td>\n",
       "      <td>Annual</td>\n",
       "      <td>NaN</td>\n",
       "      <td>3365</td>\n",
       "      <td></td>\n",
       "      <td>CXUFOODAWAYLB1101M</td>\n",
       "    </tr>\n",
       "    <tr>\n",
       "      <th>2</th>\n",
       "      <td>2016</td>\n",
       "      <td>A01</td>\n",
       "      <td>Annual</td>\n",
       "      <td>NaN</td>\n",
       "      <td>3154</td>\n",
       "      <td></td>\n",
       "      <td>CXUFOODAWAYLB1101M</td>\n",
       "    </tr>\n",
       "    <tr>\n",
       "      <th>3</th>\n",
       "      <td>2015</td>\n",
       "      <td>A01</td>\n",
       "      <td>Annual</td>\n",
       "      <td>NaN</td>\n",
       "      <td>3008</td>\n",
       "      <td></td>\n",
       "      <td>CXUFOODAWAYLB1101M</td>\n",
       "    </tr>\n",
       "    <tr>\n",
       "      <th>4</th>\n",
       "      <td>2014</td>\n",
       "      <td>A01</td>\n",
       "      <td>Annual</td>\n",
       "      <td>NaN</td>\n",
       "      <td>2787</td>\n",
       "      <td></td>\n",
       "      <td>CXUFOODAWAYLB1101M</td>\n",
       "    </tr>\n",
       "    <tr>\n",
       "      <th>...</th>\n",
       "      <td>...</td>\n",
       "      <td>...</td>\n",
       "      <td>...</td>\n",
       "      <td>...</td>\n",
       "      <td>...</td>\n",
       "      <td>...</td>\n",
       "      <td>...</td>\n",
       "    </tr>\n",
       "    <tr>\n",
       "      <th>255</th>\n",
       "      <td>2010</td>\n",
       "      <td>A01</td>\n",
       "      <td>Annual</td>\n",
       "      <td>NaN</td>\n",
       "      <td>1932</td>\n",
       "      <td></td>\n",
       "      <td>CXUAPPARELLB1105M</td>\n",
       "    </tr>\n",
       "    <tr>\n",
       "      <th>256</th>\n",
       "      <td>2009</td>\n",
       "      <td>A01</td>\n",
       "      <td>Annual</td>\n",
       "      <td>NaN</td>\n",
       "      <td>1844</td>\n",
       "      <td></td>\n",
       "      <td>CXUAPPARELLB1105M</td>\n",
       "    </tr>\n",
       "    <tr>\n",
       "      <th>257</th>\n",
       "      <td>2008</td>\n",
       "      <td>A01</td>\n",
       "      <td>Annual</td>\n",
       "      <td>NaN</td>\n",
       "      <td>1888</td>\n",
       "      <td></td>\n",
       "      <td>CXUAPPARELLB1105M</td>\n",
       "    </tr>\n",
       "    <tr>\n",
       "      <th>258</th>\n",
       "      <td>2007</td>\n",
       "      <td>A01</td>\n",
       "      <td>Annual</td>\n",
       "      <td>NaN</td>\n",
       "      <td>2042</td>\n",
       "      <td></td>\n",
       "      <td>CXUAPPARELLB1105M</td>\n",
       "    </tr>\n",
       "    <tr>\n",
       "      <th>259</th>\n",
       "      <td>2006</td>\n",
       "      <td>A01</td>\n",
       "      <td>Annual</td>\n",
       "      <td>NaN</td>\n",
       "      <td>2126</td>\n",
       "      <td></td>\n",
       "      <td>CXUAPPARELLB1105M</td>\n",
       "    </tr>\n",
       "  </tbody>\n",
       "</table>\n",
       "<p>260 rows × 7 columns</p>\n",
       "</div>"
      ],
      "text/plain": [
       "     year period periodName latest value footnotes            seriesID\n",
       "0    2018    A01     Annual   true  3459            CXUFOODAWAYLB1101M\n",
       "1    2017    A01     Annual    NaN  3365            CXUFOODAWAYLB1101M\n",
       "2    2016    A01     Annual    NaN  3154            CXUFOODAWAYLB1101M\n",
       "3    2015    A01     Annual    NaN  3008            CXUFOODAWAYLB1101M\n",
       "4    2014    A01     Annual    NaN  2787            CXUFOODAWAYLB1101M\n",
       "..    ...    ...        ...    ...   ...       ...                 ...\n",
       "255  2010    A01     Annual    NaN  1932             CXUAPPARELLB1105M\n",
       "256  2009    A01     Annual    NaN  1844             CXUAPPARELLB1105M\n",
       "257  2008    A01     Annual    NaN  1888             CXUAPPARELLB1105M\n",
       "258  2007    A01     Annual    NaN  2042             CXUAPPARELLB1105M\n",
       "259  2006    A01     Annual    NaN  2126             CXUAPPARELLB1105M\n",
       "\n",
       "[260 rows x 7 columns]"
      ]
     },
     "execution_count": 78,
     "metadata": {},
     "output_type": "execute_result"
    }
   ],
   "source": [
    "df"
   ]
  },
  {
   "cell_type": "code",
   "execution_count": 79,
   "metadata": {},
   "outputs": [
    {
     "data": {
      "text/plain": [
       "year          object\n",
       "period        object\n",
       "periodName    object\n",
       "latest        object\n",
       "value         object\n",
       "footnotes     object\n",
       "seriesID      object\n",
       "dtype: object"
      ]
     },
     "execution_count": 79,
     "metadata": {},
     "output_type": "execute_result"
    }
   ],
   "source": [
    "df.dtypes"
   ]
  },
  {
   "cell_type": "code",
   "execution_count": 80,
   "metadata": {},
   "outputs": [
    {
     "data": {
      "text/html": [
       "<div>\n",
       "<style scoped>\n",
       "    .dataframe tbody tr th:only-of-type {\n",
       "        vertical-align: middle;\n",
       "    }\n",
       "\n",
       "    .dataframe tbody tr th {\n",
       "        vertical-align: top;\n",
       "    }\n",
       "\n",
       "    .dataframe thead th {\n",
       "        text-align: right;\n",
       "    }\n",
       "</style>\n",
       "<table border=\"1\" class=\"dataframe\">\n",
       "  <thead>\n",
       "    <tr style=\"text-align: right;\">\n",
       "      <th></th>\n",
       "      <th>year</th>\n",
       "      <th>period</th>\n",
       "      <th>periodName</th>\n",
       "      <th>latest</th>\n",
       "      <th>value</th>\n",
       "      <th>footnotes</th>\n",
       "      <th>seriesID</th>\n",
       "    </tr>\n",
       "  </thead>\n",
       "  <tbody>\n",
       "    <tr>\n",
       "      <th>0</th>\n",
       "      <td>2006</td>\n",
       "      <td>A01</td>\n",
       "      <td>Annual</td>\n",
       "      <td>NaN</td>\n",
       "      <td>606.0</td>\n",
       "      <td></td>\n",
       "      <td>CXUFEESADMLB1101M</td>\n",
       "    </tr>\n",
       "    <tr>\n",
       "      <th>1</th>\n",
       "      <td>2006</td>\n",
       "      <td>A01</td>\n",
       "      <td>Annual</td>\n",
       "      <td>NaN</td>\n",
       "      <td>91.0</td>\n",
       "      <td></td>\n",
       "      <td>CXUBOYSLB1101M</td>\n",
       "    </tr>\n",
       "    <tr>\n",
       "      <th>2</th>\n",
       "      <td>2006</td>\n",
       "      <td>A01</td>\n",
       "      <td>Annual</td>\n",
       "      <td>NaN</td>\n",
       "      <td>96.0</td>\n",
       "      <td></td>\n",
       "      <td>CXUINFANTLB1101M</td>\n",
       "    </tr>\n",
       "    <tr>\n",
       "      <th>3</th>\n",
       "      <td>2006</td>\n",
       "      <td>A01</td>\n",
       "      <td>Annual</td>\n",
       "      <td>NaN</td>\n",
       "      <td>122.0</td>\n",
       "      <td></td>\n",
       "      <td>CXUGIRLSLB1101M</td>\n",
       "    </tr>\n",
       "    <tr>\n",
       "      <th>4</th>\n",
       "      <td>2006</td>\n",
       "      <td>A01</td>\n",
       "      <td>Annual</td>\n",
       "      <td>NaN</td>\n",
       "      <td>353.0</td>\n",
       "      <td></td>\n",
       "      <td>CXUMENSLB1101M</td>\n",
       "    </tr>\n",
       "    <tr>\n",
       "      <th>...</th>\n",
       "      <td>...</td>\n",
       "      <td>...</td>\n",
       "      <td>...</td>\n",
       "      <td>...</td>\n",
       "      <td>...</td>\n",
       "      <td>...</td>\n",
       "      <td>...</td>\n",
       "    </tr>\n",
       "    <tr>\n",
       "      <th>255</th>\n",
       "      <td>2018</td>\n",
       "      <td>A01</td>\n",
       "      <td>Annual</td>\n",
       "      <td>true</td>\n",
       "      <td>2137.0</td>\n",
       "      <td></td>\n",
       "      <td>CXUAPPARELLB1102M</td>\n",
       "    </tr>\n",
       "    <tr>\n",
       "      <th>256</th>\n",
       "      <td>2018</td>\n",
       "      <td>A01</td>\n",
       "      <td>Annual</td>\n",
       "      <td>true</td>\n",
       "      <td>78.0</td>\n",
       "      <td></td>\n",
       "      <td>CXUINFANTLB1101M</td>\n",
       "    </tr>\n",
       "    <tr>\n",
       "      <th>257</th>\n",
       "      <td>2018</td>\n",
       "      <td>A01</td>\n",
       "      <td>Annual</td>\n",
       "      <td>true</td>\n",
       "      <td>1872.0</td>\n",
       "      <td></td>\n",
       "      <td>CXUAPPARELLB1103M</td>\n",
       "    </tr>\n",
       "    <tr>\n",
       "      <th>258</th>\n",
       "      <td>2018</td>\n",
       "      <td>A01</td>\n",
       "      <td>Annual</td>\n",
       "      <td>true</td>\n",
       "      <td>2778.0</td>\n",
       "      <td></td>\n",
       "      <td>CXUENTRTAINLB1104M</td>\n",
       "    </tr>\n",
       "    <tr>\n",
       "      <th>259</th>\n",
       "      <td>2018</td>\n",
       "      <td>A01</td>\n",
       "      <td>Annual</td>\n",
       "      <td>true</td>\n",
       "      <td>3459.0</td>\n",
       "      <td></td>\n",
       "      <td>CXUFOODAWAYLB1101M</td>\n",
       "    </tr>\n",
       "  </tbody>\n",
       "</table>\n",
       "<p>260 rows × 7 columns</p>\n",
       "</div>"
      ],
      "text/plain": [
       "     year period periodName latest   value footnotes            seriesID\n",
       "0    2006    A01     Annual    NaN   606.0             CXUFEESADMLB1101M\n",
       "1    2006    A01     Annual    NaN    91.0                CXUBOYSLB1101M\n",
       "2    2006    A01     Annual    NaN    96.0              CXUINFANTLB1101M\n",
       "3    2006    A01     Annual    NaN   122.0               CXUGIRLSLB1101M\n",
       "4    2006    A01     Annual    NaN   353.0                CXUMENSLB1101M\n",
       "..    ...    ...        ...    ...     ...       ...                 ...\n",
       "255  2018    A01     Annual   true  2137.0             CXUAPPARELLB1102M\n",
       "256  2018    A01     Annual   true    78.0              CXUINFANTLB1101M\n",
       "257  2018    A01     Annual   true  1872.0             CXUAPPARELLB1103M\n",
       "258  2018    A01     Annual   true  2778.0            CXUENTRTAINLB1104M\n",
       "259  2018    A01     Annual   true  3459.0            CXUFOODAWAYLB1101M\n",
       "\n",
       "[260 rows x 7 columns]"
      ]
     },
     "execution_count": 80,
     "metadata": {},
     "output_type": "execute_result"
    }
   ],
   "source": [
    "df['value'] = df['value'].astype(float)\n",
    "df = df.sort_values('year', ascending = True).reset_index(drop=True)\n",
    "df"
   ]
  },
  {
   "cell_type": "code",
   "execution_count": 81,
   "metadata": {},
   "outputs": [
    {
     "data": {
      "text/plain": [
       "36880"
      ]
     },
     "execution_count": 81,
     "metadata": {},
     "output_type": "execute_result"
    }
   ],
   "source": [
    "total_foodaway = df.groupby('seriesID')['value'].sum()[\"CXUFOODAWAYLB1101M\"]\n",
    "total_foodaway = int(total_foodaway)\n",
    "total_foodaway"
   ]
  },
  {
   "cell_type": "code",
   "execution_count": 82,
   "metadata": {},
   "outputs": [
    {
     "data": {
      "text/plain": [
       "23195"
      ]
     },
     "execution_count": 82,
     "metadata": {},
     "output_type": "execute_result"
    }
   ],
   "source": [
    "total_apparel = df.groupby('seriesID')['value'].sum()[\"CXUAPPARELLB1101M\"]\n",
    "total_apparel = int(total_apparel)\n",
    "total_apparel"
   ]
  },
  {
   "cell_type": "code",
   "execution_count": 83,
   "metadata": {},
   "outputs": [
    {
     "data": {
      "text/plain": [
       "35677"
      ]
     },
     "execution_count": 83,
     "metadata": {},
     "output_type": "execute_result"
    }
   ],
   "source": [
    "total_ent = df.groupby('seriesID')['value'].sum()[\"CXUENTRTAINLB1101M\"]\n",
    "total_ent = int(total_ent)\n",
    "total_ent"
   ]
  },
  {
   "cell_type": "code",
   "execution_count": 84,
   "metadata": {},
   "outputs": [
    {
     "data": {
      "image/png": "[encoded data removed]",
      "text/plain": [
       "<Figure size 432x288 with 1 Axes>"
      ]
     },
     "metadata": {},
     "output_type": "display_data"
    }
   ],
   "source": [
    "labels = 'Food Away From Home', 'Apparel', 'Entertainment'\n",
    "sizes = [total_foodaway, total_apparel, total_ent]\n",
    "explode = (0, 0, 0)  # only \"explode\" the 2nd slice (i.e. 'Apparel')\n",
    "\n",
    "fig1, ax1 = plt.subplots()\n",
    "ax1.pie(sizes, explode=explode, labels=labels, autopct='%1.1f%%',\n",
    "        shadow=True, startangle=90)\n",
    "ax1.axis('equal')  # Equal aspect ratio ensures that pie is drawn as a circle.\n",
    "\n",
    "plt.title('Discretionary Consumer Spending from 2005 to 2018')\n",
    "plt.show()"
   ]
  },
  {
   "cell_type": "code",
   "execution_count": 85,
   "metadata": {},
   "outputs": [
    {
     "data": {
      "text/plain": [
       "41036"
      ]
     },
     "execution_count": 85,
     "metadata": {},
     "output_type": "execute_result"
    }
   ],
   "source": [
    "#list of demo codes then series ids\n",
    "#for loop, for demo codes, go through age range list \n",
    "\n",
    "\n",
    "north_east = df.groupby('seriesID')['value'].sum()[\"CXUENTRTAINLB1102M\"]\n",
    "north_east = int(north_east)\n",
    "north_east\n",
    "\n",
    "mid_west = df.groupby('seriesID')['value'].sum()[\"CXUENTRTAINLB1103M\"]\n",
    "mid_west = int(mid_west)\n",
    "mid_west\n",
    "\n",
    "south_ent = df.groupby('seriesID')['value'].sum()[\"CXUENTRTAINLB1104M\"]\n",
    "south_ent = int(south_ent)\n",
    "south_ent\n",
    "\n",
    "west_ent = df.groupby('seriesID')['value'].sum()[\"CXUENTRTAINLB1105M\"]\n",
    "west_ent = int(west_ent)\n",
    "west_ent"
   ]
  },
  {
   "cell_type": "code",
   "execution_count": 94,
   "metadata": {},
   "outputs": [
    {
     "data": {
      "image/png": "[encoded data removed]",
      "text/plain": [
       "<Figure size 432x288 with 1 Axes>"
      ]
     },
     "metadata": {
      "needs_background": "light"
     },
     "output_type": "display_data"
    }
   ],
   "source": [
    "#discretionary income by geographic \n",
    "\n",
    "#N = 5\n",
    "menMeans = (20, 35, 30, 35, 27)\n",
    "womenMeans = (25, 32, 34, 20, 25)\n",
    "ind = \"x,x,x,x,x\"#np.arange(N) # the x locations for the groups\n",
    "width = 0.35\n",
    "fig = plt.figure()\n",
    "ax = fig.add_axes([0,0,1,1])\n",
    "ax.bar(ind, menMeans, width, color='r')\n",
    "ax.bar(ind, womenMeans, width,bottom=menMeans, color='b')\n",
    "ax.set_ylabel('Scores')\n",
    "ax.set_title('Scores by group and gender')\n",
    "ax.set_xticks(ind, ('G1', 'G2', 'G3', 'G4', 'G5'))\n",
    "ax.set_yticks(np.arange(0, 81, 10))\n",
    "ax.legend(labels=['Men', 'Women'])\n",
    "plt.show()\n"
   ]
  },
  {
   "cell_type": "code",
   "execution_count": 86,
   "metadata": {},
   "outputs": [
    {
     "data": {
      "image/png": "[encoded data removed]",
      "text/plain": [
       "<Figure size 432x288 with 1 Axes>"
      ]
     },
     "metadata": {},
     "output_type": "display_data"
    }
   ],
   "source": [
    "labels =  'Entertainment in the Northeast','Entertainment in the Midwest', 'Entertainment in the South', 'Entertainment in the West'\n",
    "sizes = [north_east, mid_west, south_ent, west_ent]\n",
    "explode = ( 0, 0, 0, .1)  # only \"explode\" the 2nd slice (i.e. 'Apparel')\n",
    "\n",
    "fig1, ax1 = plt.subplots()\n",
    "ax1.pie(sizes, explode=explode, labels=labels, autopct='%1.1f%%',\n",
    "        shadow=True, startangle=90)\n",
    "ax1.axis('equal')  # Equal aspect ratio ensures that pie is drawn as a circle.\n",
    "\n",
    "plt.title('Geographic Entertainment Breakdown from 2005 to 2018')\n",
    "plt.show()"
   ]
  },
  {
   "cell_type": "code",
   "execution_count": 88,
   "metadata": {},
   "outputs": [
    {
     "data": {
      "text/plain": [
       "25854"
      ]
     },
     "execution_count": 88,
     "metadata": {},
     "output_type": "execute_result"
    }
   ],
   "source": [
    "northeast_apparel = df.groupby('seriesID')['value'].sum()[\"CXUAPPARELLB1102M\"]\n",
    "northeast_apparel = int(northeast_apparel)\n",
    "northeast_apparel\n",
    "\n",
    "midwest_apparel = df.groupby('seriesID')['value'].sum()[\"CXUAPPARELLB1103M\"]\n",
    "midwest_apparel = int(midwest_apparel)\n",
    "midwest_apparel\n",
    "\n",
    "south_apparel = df.groupby('seriesID')['value'].sum()[\"CXUAPPARELLB1104M\"]\n",
    "south_apparel = int(south_apparel)\n",
    "south_apparel\n",
    "\n",
    "west_apparel = df.groupby('seriesID')['value'].sum()[\"CXUAPPARELLB1105M\"]\n",
    "west_apparel = int(west_apparel)\n",
    "west_apparel"
   ]
  },
  {
   "cell_type": "code",
   "execution_count": 90,
   "metadata": {},
   "outputs": [
    {
     "data": {
      "image/png": "[encoded data removed]",
      "text/plain": [
       "<Figure size 432x288 with 1 Axes>"
      ]
     },
     "metadata": {},
     "output_type": "display_data"
    }
   ],
   "source": [
    "labels =  'Apparel in the Northeast','Apparel in the Midwest', 'Apparel in the South', 'Apparel in the West'\n",
    "sizes = [northeast_apparel, midwest_apparel, south_apparel, west_apparel]\n",
    "explode = ( 0, 0, 0, .1)  \n",
    "\n",
    "fig1, ax1 = plt.subplots()\n",
    "ax1.pie(sizes, explode=explode, labels=labels, autopct='%1.1f%%',\n",
    "        shadow=True, startangle=90)\n",
    "ax1.axis('equal')  # Equal aspect ratio ensures that pie is drawn as a circle.\n",
    "\n",
    "plt.title('Geographic Apparel Breakdown from 2005 to 2018')\n",
    "plt.show()"
   ]
  },
  {
   "cell_type": "code",
   "execution_count": null,
   "metadata": {},
   "outputs": [],
   "source": [
    "boys_apparel = df.groupby('seriesID')['value'].sum()[\"CXUBOYSLB1101M\"]\n",
    "boys_apparel = int(boys_apparel)\n",
    "boys_apparel\n",
    "\n",
    "girls_apparel = df.groupby('seriesID')['value'].sum()[\"CXUGIRLSLB1101M\"]\n",
    "girls_apparel = int(girls_apparel)\n",
    "girls_apparel\n",
    "\n",
    "men_apparel = df.groupby('seriesID')['value'].sum()[\"CXUMENSLB1101M\"]\n",
    "men_apparel = int(men_apparel)\n",
    "men_apparel\n",
    "\n",
    "women_apparel = df.groupby('seriesID')['value'].sum()[\"CXUWOMENSLB1101M\"]\n",
    "women_apparel = int(women_apparel)\n",
    "women_apparel\n",
    "\n",
    "footwear = df.groupby('seriesID')['value'].sum()[\"CXUFOOTWEARLB1101M\"]\n",
    "footwear = int(footwear)\n",
    "footwear\n"
   ]
  },
  {
   "cell_type": "code",
   "execution_count": 60,
   "metadata": {},
   "outputs": [
    {
     "data": {
      "image/png": "[encoded data removed]",
      "text/plain": [
       "<Figure size 432x288 with 1 Axes>"
      ]
     },
     "metadata": {},
     "output_type": "display_data"
    }
   ],
   "source": [
    "labels =  'Girls Apparel','Men Apparel', 'Women Apparel', 'Footwear'\n",
    "sizes = [girls_apparel, men_apparel, women_apparel, footwear]\n",
    "explode = ( 0, 0, 0, 0)  # only \"explode\" the 2nd slice (i.e. 'Apparel')\n",
    "\n",
    "fig1, ax1 = plt.subplots()\n",
    "ax1.pie(sizes, explode=explode, labels=labels, autopct='%1.1f%%',\n",
    "        shadow=True, startangle=90)\n",
    "ax1.axis('equal')  # Equal aspect ratio ensures that pie is drawn as a circle.\n",
    "\n",
    "plt.title('Apparel Breakdown from 2005 to 2018')\n",
    "plt.show()"
   ]
  },
  {
   "cell_type": "code",
   "execution_count": 61,
   "metadata": {},
   "outputs": [
    {
     "data": {
      "text/plain": [
       "13013"
      ]
     },
     "execution_count": 61,
     "metadata": {},
     "output_type": "execute_result"
    }
   ],
   "source": [
    "fees_admin = df.groupby('seriesID')['value'].sum()[\"CXUFEESADMLB1101M\"]\n",
    "fees_admin = int(fees_admin)\n",
    "fees_admin\n",
    "\n",
    "pets_play = df.groupby('seriesID')['value'].sum()[\"CXUPETSPLAYLB1101M\"]\n",
    "pets_play = int(pets_play)\n",
    "pets_play\n",
    "\n",
    "audio_visual = df.groupby('seriesID')['value'].sum()[\"CXUTVAUDIOLB1101M\"]\n",
    "audio_visual = int(audio_visual)\n",
    "audio_visual"
   ]
  },
  {
   "cell_type": "code",
   "execution_count": 62,
   "metadata": {},
   "outputs": [
    {
     "data": {
      "image/png": "[encoded data removed]",
      "text/plain": [
       "<Figure size 432x288 with 1 Axes>"
      ]
     },
     "metadata": {},
     "output_type": "display_data"
    }
   ],
   "source": [
    "labels =  'Fees and Admission','Audio and Visual', 'Pets and Toys'\n",
    "sizes = [fees_admin, audio_visual, pets_play]\n",
    "explode = ( 0, 0, 0)  # only \"explode\" the 2nd slice (i.e. 'Apparel')\n",
    "\n",
    "fig1, ax1 = plt.subplots()\n",
    "ax1.pie(sizes, explode=explode, labels=labels, autopct='%1.1f%%',\n",
    "        shadow=True, startangle=90)\n",
    "ax1.axis('equal')  # Equal aspect ratio ensures that pie is drawn as a circle.\n",
    "\n",
    "plt.title('Entertainment Breakdown from 2005 to 2018')\n",
    "plt.show()"
   ]
  },
  {
   "cell_type": "code",
   "execution_count": 63,
   "metadata": {},
   "outputs": [
    {
     "data": {
      "text/html": [
       "<div>\n",
       "<style scoped>\n",
       "    .dataframe tbody tr th:only-of-type {\n",
       "        vertical-align: middle;\n",
       "    }\n",
       "\n",
       "    .dataframe tbody tr th {\n",
       "        vertical-align: top;\n",
       "    }\n",
       "\n",
       "    .dataframe thead th {\n",
       "        text-align: right;\n",
       "    }\n",
       "</style>\n",
       "<table border=\"1\" class=\"dataframe\">\n",
       "  <thead>\n",
       "    <tr style=\"text-align: right;\">\n",
       "      <th></th>\n",
       "      <th>year</th>\n",
       "      <th>period</th>\n",
       "      <th>periodName</th>\n",
       "      <th>latest</th>\n",
       "      <th>value</th>\n",
       "      <th>footnotes</th>\n",
       "      <th>seriesID</th>\n",
       "    </tr>\n",
       "  </thead>\n",
       "  <tbody>\n",
       "    <tr>\n",
       "      <th>0</th>\n",
       "      <td>2006</td>\n",
       "      <td>A01</td>\n",
       "      <td>Annual</td>\n",
       "      <td>NaN</td>\n",
       "      <td>1874.0</td>\n",
       "      <td></td>\n",
       "      <td>CXUAPPARELLB1101M</td>\n",
       "    </tr>\n",
       "    <tr>\n",
       "      <th>1</th>\n",
       "      <td>2007</td>\n",
       "      <td>A01</td>\n",
       "      <td>Annual</td>\n",
       "      <td>NaN</td>\n",
       "      <td>1881.0</td>\n",
       "      <td></td>\n",
       "      <td>CXUAPPARELLB1101M</td>\n",
       "    </tr>\n",
       "    <tr>\n",
       "      <th>2</th>\n",
       "      <td>2008</td>\n",
       "      <td>A01</td>\n",
       "      <td>Annual</td>\n",
       "      <td>NaN</td>\n",
       "      <td>1801.0</td>\n",
       "      <td></td>\n",
       "      <td>CXUAPPARELLB1101M</td>\n",
       "    </tr>\n",
       "    <tr>\n",
       "      <th>3</th>\n",
       "      <td>2009</td>\n",
       "      <td>A01</td>\n",
       "      <td>Annual</td>\n",
       "      <td>NaN</td>\n",
       "      <td>1725.0</td>\n",
       "      <td></td>\n",
       "      <td>CXUAPPARELLB1101M</td>\n",
       "    </tr>\n",
       "    <tr>\n",
       "      <th>4</th>\n",
       "      <td>2010</td>\n",
       "      <td>A01</td>\n",
       "      <td>Annual</td>\n",
       "      <td>NaN</td>\n",
       "      <td>1700.0</td>\n",
       "      <td></td>\n",
       "      <td>CXUAPPARELLB1101M</td>\n",
       "    </tr>\n",
       "    <tr>\n",
       "      <th>...</th>\n",
       "      <td>...</td>\n",
       "      <td>...</td>\n",
       "      <td>...</td>\n",
       "      <td>...</td>\n",
       "      <td>...</td>\n",
       "      <td>...</td>\n",
       "      <td>...</td>\n",
       "    </tr>\n",
       "    <tr>\n",
       "      <th>203</th>\n",
       "      <td>2014</td>\n",
       "      <td>A01</td>\n",
       "      <td>Annual</td>\n",
       "      <td>NaN</td>\n",
       "      <td>551.0</td>\n",
       "      <td></td>\n",
       "      <td>CXUWOMENSLB1101M</td>\n",
       "    </tr>\n",
       "    <tr>\n",
       "      <th>204</th>\n",
       "      <td>2015</td>\n",
       "      <td>A01</td>\n",
       "      <td>Annual</td>\n",
       "      <td>NaN</td>\n",
       "      <td>596.0</td>\n",
       "      <td></td>\n",
       "      <td>CXUWOMENSLB1101M</td>\n",
       "    </tr>\n",
       "    <tr>\n",
       "      <th>205</th>\n",
       "      <td>2016</td>\n",
       "      <td>A01</td>\n",
       "      <td>Annual</td>\n",
       "      <td>NaN</td>\n",
       "      <td>571.0</td>\n",
       "      <td></td>\n",
       "      <td>CXUWOMENSLB1101M</td>\n",
       "    </tr>\n",
       "    <tr>\n",
       "      <th>206</th>\n",
       "      <td>2017</td>\n",
       "      <td>A01</td>\n",
       "      <td>Annual</td>\n",
       "      <td>NaN</td>\n",
       "      <td>580.0</td>\n",
       "      <td></td>\n",
       "      <td>CXUWOMENSLB1101M</td>\n",
       "    </tr>\n",
       "    <tr>\n",
       "      <th>207</th>\n",
       "      <td>2018</td>\n",
       "      <td>A01</td>\n",
       "      <td>Annual</td>\n",
       "      <td>true</td>\n",
       "      <td>638.0</td>\n",
       "      <td></td>\n",
       "      <td>CXUWOMENSLB1101M</td>\n",
       "    </tr>\n",
       "  </tbody>\n",
       "</table>\n",
       "<p>208 rows × 7 columns</p>\n",
       "</div>"
      ],
      "text/plain": [
       "     year period periodName latest   value footnotes           seriesID\n",
       "0    2006    A01     Annual    NaN  1874.0            CXUAPPARELLB1101M\n",
       "1    2007    A01     Annual    NaN  1881.0            CXUAPPARELLB1101M\n",
       "2    2008    A01     Annual    NaN  1801.0            CXUAPPARELLB1101M\n",
       "3    2009    A01     Annual    NaN  1725.0            CXUAPPARELLB1101M\n",
       "4    2010    A01     Annual    NaN  1700.0            CXUAPPARELLB1101M\n",
       "..    ...    ...        ...    ...     ...       ...                ...\n",
       "203  2014    A01     Annual    NaN   551.0             CXUWOMENSLB1101M\n",
       "204  2015    A01     Annual    NaN   596.0             CXUWOMENSLB1101M\n",
       "205  2016    A01     Annual    NaN   571.0             CXUWOMENSLB1101M\n",
       "206  2017    A01     Annual    NaN   580.0             CXUWOMENSLB1101M\n",
       "207  2018    A01     Annual   true   638.0             CXUWOMENSLB1101M\n",
       "\n",
       "[208 rows x 7 columns]"
      ]
     },
     "execution_count": 63,
     "metadata": {},
     "output_type": "execute_result"
    }
   ],
   "source": [
    "df = df.sort_values(['seriesID','year'], ascending = True).reset_index(drop=True)\n",
    "df"
   ]
  },
  {
   "cell_type": "code",
   "execution_count": 64,
   "metadata": {},
   "outputs": [
    {
     "data": {
      "text/plain": [
       "0           NaN\n",
       "1      0.003735\n",
       "2     -0.042531\n",
       "3     -0.042199\n",
       "4     -0.014493\n",
       "         ...   \n",
       "203    0.045541\n",
       "204    0.081670\n",
       "205   -0.041946\n",
       "206    0.015762\n",
       "207    0.100000\n",
       "Name: value, Length: 208, dtype: float64"
      ]
     },
     "execution_count": 64,
     "metadata": {},
     "output_type": "execute_result"
    }
   ],
   "source": [
    "df[\"value\"].pct_change()"
   ]
  },
  {
   "cell_type": "code",
   "execution_count": 65,
   "metadata": {},
   "outputs": [
    {
     "data": {
      "image/png": "[encoded data removed]",
      "text/plain": [
       "<Figure size 432x288 with 1 Axes>"
      ]
     },
     "metadata": {
      "needs_background": "light"
     },
     "output_type": "display_data"
    }
   ],
   "source": [
    "apparel = bls.get_series('CXUAPPARELLB1101M', 2005, 2014)\n",
    "entertainment = bls.get_series('CXUENTRTAINLB1101M', 2005, 2014)\n",
    "food_away = bls.get_series('CXUFOODAWAYLB1101M', 2005, 2014)\n",
    "\n",
    "\n",
    "apparel.plot(kind='line', x='date',y='value', color='red')\n",
    "entertainment.plot(kind='line', x='date',y='value', color='orange')\n",
    "food_away.plot(kind='line', x='date',y='value', color='green')\n",
    "\n",
    "plt.title('Consumer Spend from 2005 to 2014')\n",
    "plt.xlabel('Year')\n",
    "plt.ylabel('Amount')\n",
    "plt.show()"
   ]
  },
  {
   "cell_type": "code",
   "execution_count": null,
   "metadata": {},
   "outputs": [],
   "source": []
  },
  {
   "cell_type": "code",
   "execution_count": null,
   "metadata": {},
   "outputs": [],
   "source": []
  }
 ],
 "metadata": {
  "kernelspec": {
   "display_name": "Python 3",
   "language": "python",
   "name": "python3"
  },
  "language_info": {
   "codemirror_mode": {
    "name": "ipython",
    "version": 3
   },
   "file_extension": ".py",
   "mimetype": "text/x-python",
   "name": "python",
   "nbconvert_exporter": "python",
   "pygments_lexer": "ipython3",
   "version": "3.7.6"
  }
 },
 "nbformat": 4,
 "nbformat_minor": 4
}
